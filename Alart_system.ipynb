{
 "cells": [
  {
   "cell_type": "raw",
   "id": "5d90bb72",
   "metadata": {},
   "source": []
  },
  {
   "cell_type": "markdown",
   "id": "49c6589d",
   "metadata": {},
   "source": [
    "# Car Accident Alart Systam "
   ]
  },
  {
   "cell_type": "markdown",
   "id": "6dad8b06",
   "metadata": {},
   "source": [
    "**Importing libraries**"
   ]
  },
  {
   "cell_type": "code",
   "execution_count": 33,
   "id": "42af95d6",
   "metadata": {},
   "outputs": [],
   "source": [
    "from keras.models import load_model\n",
    "import os \n",
    "import glob\n",
    "import numpy as np\n",
    "import pandas as pd\n",
    "import cv2\n",
    "import matplotlib.pyplot as plt\n",
    "from matplotlib.pyplot import imshow\n",
    "import zipfile\n",
    "import csv\n",
    "import seaborn as sns\n",
    "from time import time\n",
    "import requests\n",
    "from datetime import datetime\n",
    "import pytz\n",
    "import ssl"
   ]
  },
  {
   "cell_type": "code",
   "execution_count": 34,
   "id": "85b78ae1",
   "metadata": {},
   "outputs": [],
   "source": [
    "IMG_CATEGORIES = {0:'Accident', 1: ' '}"
   ]
  },
  {
   "cell_type": "code",
   "execution_count": 35,
   "id": "6800fe70",
   "metadata": {},
   "outputs": [],
   "source": [
    "model = load_model(\"resnet-cnn-model.h5\")"
   ]
  },
  {
   "cell_type": "code",
   "execution_count": 36,
   "id": "aa56e55f",
   "metadata": {},
   "outputs": [],
   "source": [
    "import cv2\n",
    "def pred_img(img_path):\n",
    "    IMG_SIZE = 224\n",
    "    img = load_img(img_path, target_size=(IMG_SIZE, IMG_SIZE), interpolation='nearest')\n",
    "    prediction = model.predict(np.expand_dims(img, axis=0))\n",
    "    result = np.argmax(prediction, axis=1)\n",
    "    result = IMG_CATEGORIES.get(int(result))\n",
    "    img = cv2.imread(img_path)\n",
    "    cv2_imshow(img)\n",
    "    print(\"Model's prediction:\", result)"
   ]
  },
  {
   "cell_type": "code",
   "execution_count": 37,
   "id": "a84b6756",
   "metadata": {},
   "outputs": [],
   "source": [
    "cap = cv2.VideoCapture(\"video2.mp4\")"
   ]
  },
  {
   "cell_type": "code",
   "execution_count": 38,
   "id": "83e1df1e",
   "metadata": {},
   "outputs": [],
   "source": [
    "fourcc = cv2.VideoWriter_fourcc(*'XVID')"
   ]
  },
  {
   "cell_type": "code",
   "execution_count": 39,
   "id": "ac82439f",
   "metadata": {},
   "outputs": [],
   "source": [
    "out = cv2.VideoWriter(\"outputvideo.avi\",fourcc, 20.0,(int(cap.get(3)),int(cap.get(4))))"
   ]
  },
  {
   "cell_type": "code",
   "execution_count": 40,
   "id": "30f10c3b",
   "metadata": {},
   "outputs": [
    {
     "name": "stdout",
     "output_type": "stream",
     "text": [
      "Subject: Alert!!! Accidint\n",
      "From: maryam.aljasham.star@gmail.com\n",
      "To: mar.star.mar@gmail.com\n",
      "Content-Type: text/plain; charset=\"utf-8\"\n",
      "Content-Transfer-Encoding: 7bit\n",
      "MIME-Version: 1.0\n",
      "\n",
      "An accident has occured in king Abdullah Road 15/01/2022 at 03:26:34\n",
      "\n"
     ]
    }
   ],
   "source": [
    "import ssl\n",
    "import smtplib\n",
    "from tkinter import *\n",
    "from email.message import EmailMessage\n",
    "\n",
    "count = 0\n",
    "i=0\n",
    "r=[]\n",
    "font = cv2.FONT_HERSHEY_SIMPLEX\n",
    "\n",
    "if (cap.isOpened()== False): \n",
    "    print(\"Error opening video stream or file\")\n",
    "while(cap.isOpened()):\n",
    "   # Capture frame-by-frame\n",
    "    ret, frame = cap.read()\n",
    "    if ret == True:\n",
    "        img = cv2.resize(frame,(224,224)) \n",
    "        img = img.reshape(1,224,224,3)\n",
    "        prediction = model.predict(img)\n",
    "        result = np.argmax(prediction, axis=1)\n",
    "        #print(prediction)\n",
    "        result = IMG_CATEGORIES.get(int(result))\n",
    "        cv2.putText(frame,result,(20,50), font, 1.5,(0,0,255),2,cv2.LINE_AA)\n",
    "        out.write(frame)\n",
    "        cv2.imshow('Video prediction 2 ',frame)\n",
    "        if(count == 0):\n",
    "            \n",
    "            if(result == 'Accident'):\n",
    "                IST = pytz.timezone('Asia/Kolkata')\n",
    "                datetime_ist = datetime.now(IST)\n",
    "                time_st = datetime_ist.strftime('%H:%M:%S')\n",
    "                now = datetime.now()\n",
    "                dt_string = now.strftime(\"%d/%m/%Y\")\n",
    "                r.append(result)\n",
    "                if (len(r)==5):\n",
    "                    context = ssl.create_default_context()\n",
    "                    msg = EmailMessage()\n",
    "                    msg['Subject'] = 'Alert!!! Accidint'\n",
    "                    msg['From'] = 'aaaaa@gmail.com'\n",
    "                    msg['To'] = 'bbbbb@gmail.com'\n",
    "                    msg.set_content(\"An accident has occured in king Abdullah Road \" + dt_string + \" at \" + time_st)\n",
    "                    mail = smtplib.SMTP_SSL('smtp.gmail.com', 465)\n",
    "                    mail.ehlo()\n",
    "                    mail.login('aaaaa@gmail.com','password')#put your email and password \n",
    "                    mail.send_message(msg)\n",
    "                    mail.close\n",
    "                    print(msg)\n",
    "                    break\n",
    "                \n",
    "        # Press Q on keyboard to  exit\n",
    "        if cv2.waitKey(25) & 0xFF == ord('q'):\n",
    "            break\n",
    "\n",
    "    # Break the loop\n",
    "    else: \n",
    "        break\n",
    "    i += 1\n",
    "\n",
    "                \n",
    "               \n",
    "\n",
    "\n",
    "cap.release()\n",
    "out.release()\n",
    "# Closes all the frames\n",
    "cv2.destroyAllWindows()"
   ]
  },
  {
   "cell_type": "code",
   "execution_count": 41,
   "id": "e544b1f2",
   "metadata": {},
   "outputs": [],
   "source": [
    "cap = cv2.VideoCapture(\"not Accident.mov\")\n",
    "fourcc = cv2.VideoWriter_fourcc(*'XVID')\n",
    "out = cv2.VideoWriter(\"output not Accident.avi\",fourcc, 20.0,(int(cap.get(3)),int(cap.get(4))))"
   ]
  },
  {
   "cell_type": "code",
   "execution_count": 42,
   "id": "c00b5cbd",
   "metadata": {},
   "outputs": [],
   "source": [
    "count = 0\n",
    "i=0\n",
    "r=[]\n",
    "font = cv2.FONT_HERSHEY_SIMPLEX\n",
    "\n",
    "if (cap.isOpened()== False): \n",
    "    print(\"Error opening video stream or file\")\n",
    "while(cap.isOpened()):\n",
    "   # Capture frame-by-frame\n",
    "    ret, frame = cap.read()\n",
    "    if ret == True:\n",
    "        img = cv2.resize(frame,(224,224)) \n",
    "        img = img.reshape(1,224,224,3)\n",
    "        prediction = model.predict(img)\n",
    "        result = np.argmax(prediction, axis=1)\n",
    "        #print(prediction)\n",
    "        result = IMG_CATEGORIES.get(int(result))\n",
    "        cv2.putText(frame,result,(20,50), font, 1.5,(0,0,255),2,cv2.LINE_AA)\n",
    "        out.write(frame)\n",
    "        cv2.imshow('Video prediction 2 ',frame)\n",
    "        if(count == 0):\n",
    "            \n",
    "            if(result == 'Accident'):\n",
    "                IST = pytz.timezone('Asia/Kolkata')\n",
    "                datetime_ist = datetime.now(IST)\n",
    "                time_st = datetime_ist.strftime('%H:%M:%S')\n",
    "                now = datetime.now()\n",
    "                dt_string = now.strftime(\"%d/%m/%Y\")\n",
    "                r.append(result)\n",
    "                if (len(r)==5):\n",
    "                    context = ssl.create_default_context()\n",
    "                    msg = EmailMessage()\n",
    "                    msg['Subject'] = 'Alert!!! Accidint'\n",
    "                    msg['From'] = 'aaaaa@gmail.com'\n",
    "                    msg['To'] = 'bbbbb@gmail.com'\n",
    "                    msg.set_content(\"An accident has occured in king Abdullah streat \" + dt_string + \" at \" + time_st)\n",
    "                    mail = smtplib.SMTP_SSL('smtp.gmail.com', 465)\n",
    "                    mail.ehlo()\n",
    "                    mail.login('aaaaa@gmail.com','password')\n",
    "                    mail.send_message(msg)\n",
    "                    mail.close\n",
    "                    print(msg)\n",
    "                    break\n",
    "                \n",
    "        # Press Q on keyboard to  exit\n",
    "        if cv2.waitKey(25) & 0xFF == ord('q'):\n",
    "            break\n",
    "\n",
    "    # Break the loop\n",
    "    else: \n",
    "        break\n",
    "    i += 1\n",
    "\n",
    "                \n",
    "               \n",
    "\n",
    "\n",
    "cap.release()\n",
    "out.release()\n",
    "# Closes all the frames\n",
    "cv2.destroyAllWindows()"
   ]
  },
  {
   "cell_type": "code",
   "execution_count": 43,
   "id": "8dd9d21e",
   "metadata": {},
   "outputs": [],
   "source": [
    "cap = cv2.VideoCapture(\"video1.mov\")\n",
    "fourcc = cv2.VideoWriter_fourcc(*'XVID')\n",
    "out = cv2.VideoWriter(\"outputAccident.avi\",fourcc, 20.0,(int(cap.get(3)),int(cap.get(4))))"
   ]
  },
  {
   "cell_type": "code",
   "execution_count": 44,
   "id": "dad328ba",
   "metadata": {},
   "outputs": [
    {
     "name": "stdout",
     "output_type": "stream",
     "text": [
      "Subject: Alert!!! Accidint\n",
      "From: maryam.aljasham.star@gmail.com\n",
      "To: mar.star.mar@gmail.com\n",
      "Content-Type: text/plain; charset=\"utf-8\"\n",
      "Content-Transfer-Encoding: 7bit\n",
      "MIME-Version: 1.0\n",
      "\n",
      "An accident has occured in Uthman Ibn Affan Road 15/01/2022 at 03:29:00\n",
      "\n"
     ]
    }
   ],
   "source": [
    "count = 0\n",
    "i=0\n",
    "r=[]\n",
    "font = cv2.FONT_HERSHEY_SIMPLEX\n",
    "\n",
    "if (cap.isOpened()== False): \n",
    "    print(\"Error opening video stream or file\")\n",
    "while(cap.isOpened()):\n",
    "   # Capture frame-by-frame\n",
    "    ret, frame = cap.read()\n",
    "    if ret == True:\n",
    "        img = cv2.resize(frame,(224,224)) \n",
    "        img = img.reshape(1,224,224,3)\n",
    "        prediction = model.predict(img)\n",
    "        result = np.argmax(prediction, axis=1)\n",
    "        #print(prediction)\n",
    "        result = IMG_CATEGORIES.get(int(result))\n",
    "        cv2.putText(frame,result,(20,50), font, 1.5,(0,0,255),2,cv2.LINE_AA)\n",
    "        out.write(frame)\n",
    "        cv2.imshow('Video prediction 2 ',frame)\n",
    "        if(count == 0):\n",
    "            \n",
    "            if(result == 'Accident'):\n",
    "                IST = pytz.timezone('Asia/Kolkata')\n",
    "                datetime_ist = datetime.now(IST)\n",
    "                time_st = datetime_ist.strftime('%H:%M:%S')\n",
    "                now = datetime.now()\n",
    "                dt_string = now.strftime(\"%d/%m/%Y\")\n",
    "                r.append(result)\n",
    "                if (len(r)==5):\n",
    "                    context = ssl.create_default_context()\n",
    "                    msg = EmailMessage()\n",
    "                    msg['Subject'] = 'Alert!!! Accidint'\n",
    "                    msg['From'] = 'aaaaa@gmail.com'\n",
    "                    msg['To'] = 'bbbbb@gmail.com'\n",
    "                    msg.set_content(\"An accident has occured in Uthman Ibn Affan Road \" + dt_string + \" at \" + time_st)\n",
    "                    mail = smtplib.SMTP_SSL('smtp.gmail.com', 465)\n",
    "                    mail.ehlo()\n",
    "                    mail.login('aaaaa@gmail.com','password')\n",
    "                    mail.send_message(msg)\n",
    "                    mail.close\n",
    "                    print(msg)\n",
    "                    break\n",
    "                \n",
    "        # Press Q on keyboard to  exit\n",
    "        if cv2.waitKey(25) & 0xFF == ord('q'):\n",
    "            break\n",
    "\n",
    "    # Break the loop\n",
    "    else: \n",
    "        break\n",
    "    i += 1\n",
    "\n",
    "                \n",
    "               \n",
    "\n",
    "\n",
    "cap.release()\n",
    "out.release()\n",
    "# Closes all the frames\n",
    "cv2.destroyAllWindows()"
   ]
  },
  {
   "cell_type": "code",
   "execution_count": null,
   "id": "b00997d4",
   "metadata": {},
   "outputs": [],
   "source": []
  }
 ],
 "metadata": {
  "kernelspec": {
   "display_name": "Python 3 (ipykernel)",
   "language": "python",
   "name": "python3"
  },
  "language_info": {
   "codemirror_mode": {
    "name": "ipython",
    "version": 3
   },
   "file_extension": ".py",
   "mimetype": "text/x-python",
   "name": "python",
   "nbconvert_exporter": "python",
   "pygments_lexer": "ipython3",
   "version": "3.8.8"
  }
 },
 "nbformat": 4,
 "nbformat_minor": 5
}
